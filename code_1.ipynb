{
  "cells": [
    {
      "cell_type": "code",
      "execution_count": null,
      "metadata": {
        "colab": {
          "base_uri": "https://localhost:8080/"
        },
        "id": "ZCXapTI1tjsZ",
        "outputId": "f67a9d54-f978-437a-841d-075a0aa5b749"
      },
      "outputs": [
        {
          "output_type": "stream",
          "name": "stdout",
          "text": [
            "Mounted at /content/drive\n"
          ]
        }
      ],
      "source": [
        "from google.colab import drive\n",
        "drive.mount('/content/drive')"
      ]
    },
    {
      "cell_type": "code",
      "execution_count": null,
      "metadata": {
        "id": "SesFAV8bt5gV"
      },
      "outputs": [],
      "source": [
        "#!ls \"/content/drive/My Drive\""
      ]
    },
    {
      "cell_type": "code",
      "execution_count": null,
      "metadata": {
        "id": "h_3NwDUZwIw1"
      },
      "outputs": [],
      "source": [
        "!pip install opencv-python"
      ]
    },
    {
      "cell_type": "code",
      "execution_count": null,
      "metadata": {
        "id": "17mu4LTJ-xyO"
      },
      "outputs": [],
      "source": [
        "!pip install torch"
      ]
    },
    {
      "cell_type": "code",
      "execution_count": null,
      "metadata": {
        "id": "O2qpb1jytQUu"
      },
      "outputs": [],
      "source": [
        "!python -m pip install -r \"/content/drive/MyDrive/Bachelor/Deepfake-Detection-master/requirements.txt\""
      ]
    },
    {
      "cell_type": "code",
      "source": [
        "!python -m pip install -r \"/content/drive/MyDrive/Bachelor/key_frame_extraction_public-master/requirements.txt\""
      ],
      "metadata": {
        "id": "zwk4hZz1AGRm"
      },
      "execution_count": null,
      "outputs": []
    },
    {
      "cell_type": "markdown",
      "metadata": {
        "id": "Uakru-yK9Rtt"
      },
      "source": [
        "Test with video\n"
      ]
    },
    {
      "cell_type": "code",
      "execution_count": null,
      "metadata": {
        "id": "5tsSvOiltfTw"
      },
      "outputs": [],
      "source": [
        "!python \"/content/drive/MyDrive/Bachelor/Deepfake-Detection-master/og_detect_from_video.py\" --video_path \"/content/drive/MyDrive/Bachelor/Deepfake-Detection-master/Testing_videos\" --model_path \"/content/drive/MyDrive/Bachelor/Deepfake-Detection-master/trained_models_DeeperForensics_Celeb-DF/best.pkl\" -o \"/content/drive/MyDrive/Bachelor/Deepfake-Detection-master/output\" --cuda"
      ]
    },
    {
      "cell_type": "code",
      "source": [],
      "metadata": {
        "id": "wP0q7_Ev8HKC"
      },
      "execution_count": null,
      "outputs": []
    },
    {
      "cell_type": "markdown",
      "source": [
        "Test with video using Keyframes"
      ],
      "metadata": {
        "id": "MgwpAkkYTsMt"
      }
    },
    {
      "cell_type": "code",
      "source": [
        "!python /content/drive/MyDrive/Bachelor/Deepfake-Detection-master/detect_from_video.py --video_path \"/content/drive/MyDrive/Bachelor/Deepfake-Detection-master/Testing_videos\" --model_path \"/content/drive/MyDrive/Bachelor/Deepfake-Detection-master/trained_deepfake_c0_xception/0_fs_c0_299.pkl\" -o \"/content/drive/MyDrive/Bachelor/Deepfake-Detection-master/output\" --cuda"
      ],
      "metadata": {
        "id": "9iLtuj5wTu53"
      },
      "execution_count": null,
      "outputs": []
    },
    {
      "cell_type": "markdown",
      "metadata": {
        "id": "hMF_ZgM99WWD"
      },
      "source": [
        "Test with image"
      ]
    },
    {
      "cell_type": "code",
      "execution_count": null,
      "metadata": {
        "id": "vFtknjAK1NLM"
      },
      "outputs": [],
      "source": [
        "!python \"/content/drive/MyDrive/Bachelor/Deepfake-Detection-master/test_CNN.py\" -bz 32 --test_list \"/content/drive/MyDrive/Bachelor/Deepfake-Detection-master/data_list/face_tracked_testing_datalist.txt\" --model_path \"/content/drive/MyDrive/Bachelor/Deepfake-Detection-master/trained_models_DeeperForensics_Celeb-DF/best.pkl\""
      ]
    },
    {
      "cell_type": "markdown",
      "metadata": {
        "id": "ocCOX_V7jivg"
      },
      "source": [
        "Download videos"
      ]
    },
    {
      "cell_type": "code",
      "execution_count": null,
      "metadata": {
        "id": "44Mq8LOuEcsg",
        "colab": {
          "base_uri": "https://localhost:8080/"
        },
        "outputId": "29673c9a-e701-4551-e429-62f96674e2df"
      },
      "outputs": [
        {
          "output_type": "stream",
          "name": "stdout",
          "text": [
            "python3: can't open file '/content/drive/MyDrive/Bachelor/Deepfake-Detection-master/download-FaceForensics_v3.py': [Errno 2] No such file or directory\n"
          ]
        }
      ],
      "source": [
        "!python '/content/drive/MyDrive/Bachelor/Deepfake-Detection-master/download-FaceForensics_v3.py' -d \"original_youtube_videos\" -c \"c0\" -t \"videos\" \"/content/drive/MyDrive/Bachelor/Deepfake-Detection-master/Videos\"\n"
      ]
    },
    {
      "cell_type": "markdown",
      "metadata": {
        "id": "X7BwX0jjJgyq"
      },
      "source": [
        "Continue Training"
      ]
    },
    {
      "cell_type": "code",
      "execution_count": null,
      "metadata": {
        "id": "1CyVVVHMEgnU"
      },
      "outputs": [],
      "source": [
        "!python \"/content/drive/MyDrive/Bachelor/Deepfake-Detection-master/train_CNN.py\" --name \"trained_models_DeeperForensics_Celeb-DF\" --train_list \"/content/drive/MyDrive/Bachelor/Deepfake-Detection-master/data_list/face_tracked_training_datalist.txt\" --val_list \"/content/drive/MyDrive/Bachelor/Deepfake-Detection-master/data_list/face_tracked_validation_datalist.txt\" --model_path \"/content/drive/MyDrive/Bachelor/Deepfake-Detection-master/trained_models_DeeperForensics/best.pkl\" --e 5 --continue_train True --batch_size 32"
      ]
    },
    {
      "cell_type": "markdown",
      "metadata": {
        "id": "H_lyOPj_x56a"
      },
      "source": [
        "# MesoNet\n"
      ]
    },
    {
      "cell_type": "markdown",
      "metadata": {
        "id": "Ksizx2gvMqjL"
      },
      "source": [
        "Requirements\n"
      ]
    },
    {
      "cell_type": "code",
      "execution_count": null,
      "metadata": {
        "id": "sPRPiD8RMmuW"
      },
      "outputs": [],
      "source": [
        "!pip install ffmpeg"
      ]
    },
    {
      "cell_type": "code",
      "execution_count": null,
      "metadata": {
        "colab": {
          "background_save": true
        },
        "id": "v_E43oEjOsBN"
      },
      "outputs": [],
      "source": [
        "!python \"/content/drive/MyDrive/Bachelor/MesoNet-master/example.py\""
      ]
    },
    {
      "cell_type": "markdown",
      "source": [
        "Face tracking and Extraction"
      ],
      "metadata": {
        "id": "iPFriaDs7i2N"
      }
    },
    {
      "cell_type": "code",
      "source": [
        "!python \"/content/drive/MyDrive/Bachelor/Deepfake-Detection-master/face_tracking.py\""
      ],
      "metadata": {
        "id": "ugR_0feM7lPw"
      },
      "execution_count": null,
      "outputs": []
    },
    {
      "cell_type": "markdown",
      "source": [
        "Keyframes Extraction\n"
      ],
      "metadata": {
        "id": "WoLIUB66QV-Z"
      }
    },
    {
      "cell_type": "code",
      "source": [
        "!python -m pip install -r \"/content/drive/MyDrive/Bachelor/key_frame_extraction_public-master/requirements.txt\""
      ],
      "metadata": {
        "id": "GMY6BSOlRDOU"
      },
      "execution_count": null,
      "outputs": []
    },
    {
      "cell_type": "code",
      "source": [
        "!python \"/content/drive/MyDrive/Bachelor/key_frame_extraction_public-master/candidate_frames_folder.py\" --input_videos \"/content/drive/MyDrive/Bachelor/Deepfake-Detection-master/Testing_videos\" --output_folder_video_image \"/content/drive/MyDrive/Bachelor/candidate_frames\" --output_folder_video_final_image \"/content/drive/MyDrive/Bachelor/testing_keyframes\""
      ],
      "metadata": {
        "id": "1pHmIirFQXkD"
      },
      "execution_count": null,
      "outputs": []
    }
  ],
  "metadata": {
    "colab": {
      "provenance": []
    },
    "kernelspec": {
      "display_name": "Python 3",
      "name": "python3"
    },
    "language_info": {
      "name": "python"
    },
    "accelerator": "GPU"
  },
  "nbformat": 4,
  "nbformat_minor": 0
}